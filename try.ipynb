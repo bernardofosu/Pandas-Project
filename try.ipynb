{
 "cells": [
  {
   "cell_type": "code",
   "execution_count": null,
   "metadata": {},
   "outputs": [
    {
     "ename": "",
     "evalue": "",
     "output_type": "error",
     "traceback": [
      "\u001b[1;31mFailed to start the Kernel. \n",
      "\u001b[1;31mUnable to start Kernel 'base (Python 3.11.7)' due to a timeout waiting for the ports to get used. \n",
      "\u001b[1;31mView Jupyter <a href='command:jupyter.viewOutput'>log</a> for further details."
     ]
    }
   ],
   "source": [
    "import streamlit as st\n",
    "import plotly.express as px\n",
    "import pandas as pd\n",
    "import os\n",
    "import warnings\n",
    "warnings.filterwarnings(\"ignore\")\n",
    "\n",
    "st.set_page_config(page_title=\"trying\", layout=\"wide\")\n",
    "\n",
    "df = pd.read_excel(\"/Users/nanakwasiofosu-duodu/Downloads/superstore.xlsx\")\n",
    "# a = df[\"Order Date\"]\n",
    "\n",
    "start_date = pd.to_datetime(df[\"Order Date\"]).min()\n",
    "end_date = pd.to_datetime(df[\"Order Date\"]).max()\n",
    "\n",
    "# region = df[\"Region\"] == \"East\"\n",
    "region = df[\"Region\"].unique()\n",
    "# print(region)\n",
    "# region\n",
    "\n",
    "# for i in region:\n",
    "#     print(i)\n",
    "#     print(type(i))\n",
    "\n",
    "def take_region(one_region):\n",
    "    select_region = []\n",
    "    if one_region == \"East\":\n",
    "        select_region.append(one_region)\n",
    "    elif one_region == \"West\":\n",
    "        select_region.append(one_region)\n",
    "    elif one_region == \"South\":\n",
    "        select_region.append(one_region)\n",
    "    elif one_region == \"Central\":\n",
    "        select_region.append(one_region)\n",
    "    else:\n",
    "        return \"The selected region is not part of the list\"\n",
    "    return select_region\n",
    "\n",
    "length = len(df[\"Region\"].unique())\n",
    "print(length)\n",
    "df3 = df.sort_values(\"Region\")\n",
    "# df3\n",
    "# df2 = df.sort_values('Region')\n",
    "# df2\n",
    "# put_region = take_region(\"West\")\n",
    "        \n",
    "# df2 = df.copy()\n",
    "\n",
    "# df2 = df[df[\"Region\"].isin(put_region)]\n",
    "# df3 = df2['State'].unique()\n",
    "# print(len(df))\n",
    "\n",
    "# print(df3.sort_values('State'))\n",
    "# df3 = df2[df['State']]\n",
    "# df3 = df2[df2['State'].isin(['Los Angeles'])]\n",
    "# print(df3)\n",
    "\n",
    "#print(len(df2))\n",
    "# print(len(df))"
   ]
  },
  {
   "cell_type": "code",
   "execution_count": 2,
   "metadata": {},
   "outputs": [
    {
     "name": "stdout",
     "output_type": "stream",
     "text": [
      "8\n"
     ]
    }
   ],
   "source": [
    "a = 3\n",
    "b = 5\n",
    "\n",
    "add = a + b\n",
    "\n",
    "print(add)"
   ]
  },
  {
   "cell_type": "code",
   "execution_count": 6,
   "metadata": {},
   "outputs": [
    {
     "name": "stdout",
     "output_type": "stream",
     "text": [
      "400000\n"
     ]
    }
   ],
   "source": [
    "principal = 2000\n",
    "rate = 100\n",
    "time = 2\n",
    "\n",
    "intersts = principal * rate * time\n",
    "\n",
    "print(intersts)"
   ]
  },
  {
   "cell_type": "code",
   "execution_count": null,
   "metadata": {},
   "outputs": [
    {
     "name": "stdout",
     "output_type": "stream",
     "text": [
      "Elements of the array: \n",
      "10 22 38 27 11 \n",
      "Elements of the array sorted in ascending order: \n",
      "10 22 38 27 11 "
     ]
    }
   ],
   "source": []
  },
  {
   "cell_type": "code",
   "execution_count": null,
   "metadata": {},
   "outputs": [
    {
     "name": "stdout",
     "output_type": "stream",
     "text": [
      "[80, 68, 45, 11, 9, 7] Elements of the array sorted in ascending order: \n",
      "80 68 45 11 9 7 "
     ]
    }
   ],
   "source": []
  },
  {
   "cell_type": "code",
   "execution_count": null,
   "metadata": {},
   "outputs": [
    {
     "name": "stdout",
     "output_type": "stream",
     "text": [
      "[5, 8, 9]\n"
     ]
    }
   ],
   "source": []
  },
  {
   "cell_type": "code",
   "execution_count": 2,
   "metadata": {},
   "outputs": [],
   "source": [
    "# my imported libraries\n",
    "import streamlit as st\n",
    "import plotly.express as px\n",
    "import pandas as pd\n",
    "import os\n",
    "import warnings\n",
    "warnings.filterwarnings(\"ignore\")\n",
    "\n",
    "# Page Setup \n",
    "page_setup = st.set_page_config(page_title=\"Superstore!!!\", page_icon=\":bar_chart:\", layout=\"wide\")\n",
    "\n",
    "page_title = st.title(\" :bar_chart: Sample Superstore EDA\")\n",
    "\n",
    "page_styling = st.markdown(\"<style>div.block-container{padding-top:2rem;}</style>\", unsafe_allow_html=True)\n",
    "\n",
    "upload_file = st.file_uploader(\":file_folder: Upload a file\", type=([\"csv\", \"xls\", \"txt\", \"xlsx\"]))\n",
    "\n",
    "if upload_file is not None:\n",
    "    filename = upload_file.name\n",
    "    st.write(filename)\n",
    "    df = pd.read_csv(filename, encoding= \"ISO-8859-1\")\n",
    "else:\n",
    "    os.chdir(r\"/Users/nanakwasiofosu-duodu/Documents/Streamlit\")\n",
    "    df = pd.read_csv(\"superstore.csv\", encoding= \"ISO-8859-1\")\n",
    "\n",
    "#Column Session\n",
    "first_column, second_column = st.columns((2))\n",
    "\n",
    "start_date = pd.to_datetime(df[\"Order Date\"]).min()\n",
    "end_date = pd.to_datetime(df[\"Order Date\"]).max()\n",
    "\n",
    "with first_column:\n",
    "    first_col_datetime = pd.to_datetime(st.date_input(\"Start Date\", start_date))\n",
    "\n",
    "with second_column:\n",
    "    second_col_datetime = pd.to_datetime(st.date_input(\"End Date\", end_date))\n",
    "\n",
    "\n",
    "df = df[(pd.to_datetime(df[\"Order Date\"]) >= first_col_datetime) & (pd.to_datetime(df[\"Order Date\"]) <= second_col_datetime)].copy()\n",
    "\n",
    "# # Sidebar Session\n",
    "sidebar = st.sidebar.header(\"Choose your filter: \")\n",
    "\n",
    "\n",
    "# # Creating a region session\n",
    "sorting_region = df.sort_values(\"Region\")\n",
    "select_region = st.sidebar.multiselect(\"Pick your Region\", sorting_region[\"Region\"].unique())\n",
    "if not select_region:\n",
    "    sorted_region_copy = sorting_region.copy() # df2\n",
    "    #sorted_region_copy\n",
    "else:\n",
    "    sorted_region_copy = sorting_region[sorting_region[\"Region\"].isin(select_region)] #df2\n",
    "    #sorted_region_copy\n",
    "\n",
    "# # Creating a state session\n",
    "sorting_state = sorted_region_copy.sort_values(\"State\")\n",
    "select_state = st.sidebar.multiselect(\"Pick your State\", sorted_region_copy[\"State\"].unique())\n",
    "if not select_state:\n",
    "    sorted_state_copy = sorting_state.copy() # df3\n",
    "    #sorted_state_copy\n",
    "else:\n",
    "    sorted_state_copy = sorting_state[sorting_state[\"State\"].isin(select_state)] #df3\n",
    "    #sorted_state_copy\n",
    "\n",
    "# # # Creating a city session\n",
    "sorting_city = sorted_state_copy.sort_values(\"City\")\n",
    "select_city = st.sidebar.multiselect(\"Pick your State\", sorting_city[\"City\"].unique()) #df3\n",
    "if not select_city:\n",
    "    sorted_city_copy = sorting_city.copy()\n",
    "    #sorted_city_copy\n",
    "else:\n",
    "    sorted_city_copy = sorting_city[sorting_city[\"City\"].isin(select_city)]\n",
    "    #sorted_city_copy\n",
    "\n",
    "if not select_region and not select_state and not select_city:\n",
    "    filtered_df = sorting_region\n",
    "    filtered_df\n",
    "# elif not select_state and not select_city:\n",
    "#     filtered_df = sorted_region_copy\n",
    "    # sorting_region[sorting_region[\"Region\"].isin(select_region)]\n",
    "    # filtered_df\n",
    "# elif not select_region and not select_city:\n",
    "#     filtered_df = sorting_region[sorting_region[\"State\"].isin(select_state)]\n",
    "#     filtered_df\n",
    "    # sorting_state[sorting_state[\"State\"].isin(select_state)]\n",
    "# elif not select_region and not select_state:\n",
    "#     filtered_df = sorting_region[sorting_region[\"City\"].isin(select_city)]\n",
    "#     filtered_df\n",
    "elif select_state and select_city:\n",
    "    filtered_df = sorted_state_copy[sorted_region_copy[\"State\"].isin(select_state) & sorting_city[\"City\"].isin(select_city)]\n",
    "    filtered_df\n",
    "elif select_region and select_city:\n",
    "    filtered_df = sorted_state_copy[sorted_region_copy[\"Region\"].isin(select_region) & sorting_city[\"City\"].isin(select_city)]\n",
    "    print(filtered_df)\n",
    "\n",
    "\n",
    "# elif select_region and select_state:\n",
    "#     filtered_df = sorted_state_copy[sorted_region_copy[\"Region\"].isin(select_region) & sorting_city[\"State\"].isin(select_state)]\n",
    "#     filtered_df\n",
    "\n",
    "# elif select_city:\n",
    "#     filtered_df = sorted_state_copy[sorting_city[\"City\"].isin(select_city)]\n",
    "#     filtered_df\n",
    "\n",
    "# else:\n",
    "#     filtered_df = sorted_state_copy[sorted_state_copy[\"Region\"].isin(select_region) & sorted_state_copy[\"State\"].isin(select_state) & sorted_state_copy[\"City\"].isin(select_city)]\n",
    "#     filtered_df"
   ]
  },
  {
   "cell_type": "code",
   "execution_count": null,
   "metadata": {},
   "outputs": [
    {
     "ename": "",
     "evalue": "",
     "output_type": "error",
     "traceback": [
      "\u001b[1;31mFailed to start the Kernel. \n",
      "\u001b[1;31mUnable to start Kernel 'base (Python 3.11.7)' due to a timeout waiting for the ports to get used. \n",
      "\u001b[1;31mView Jupyter <a href='command:jupyter.viewOutput'>log</a> for further details."
     ]
    }
   ],
   "source": [
    "# Create the pandas DataFrame\n",
    "df = pd.DataFrame([[\"M\", 10,\"A\"], [\"F\", 15,\"A\"], [\"F\", 24,\"D\"],[\"M\", 10,\"D\"],\n",
    "                   [\"M\", 14,\"B\"], [\"F\", 18,\"B\"], [\"F\", 27,\"E\"],[\"M\", 15,\"E\"],\n",
    "                   [\"M\", 17,\"C\"], [\"F\", 20,\"C\"]], columns = ['Gender', 'Population','Section'])\n",
    "# print dataframe.\n",
    "df"
   ]
  },
  {
   "cell_type": "code",
   "execution_count": null,
   "metadata": {},
   "outputs": [
    {
     "ename": "",
     "evalue": "",
     "output_type": "error",
     "traceback": [
      "\u001b[1;31mFailed to start the Kernel. \n",
      "\u001b[1;31mUnable to start Kernel 'base (Python 3.11.7)' due to a timeout waiting for the ports to get used. \n",
      "\u001b[1;31mView Jupyter <a href='command:jupyter.viewOutput'>log</a> for further details."
     ]
    }
   ],
   "source": []
  },
  {
   "cell_type": "code",
   "execution_count": null,
   "metadata": {},
   "outputs": [],
   "source": []
  }
 ],
 "metadata": {
  "kernelspec": {
   "display_name": "base",
   "language": "python",
   "name": "python3"
  },
  "language_info": {
   "codemirror_mode": {
    "name": "ipython",
    "version": 3
   },
   "file_extension": ".py",
   "mimetype": "text/x-python",
   "name": "python",
   "nbconvert_exporter": "python",
   "pygments_lexer": "ipython3",
   "version": "3.11.7"
  }
 },
 "nbformat": 4,
 "nbformat_minor": 2
}
